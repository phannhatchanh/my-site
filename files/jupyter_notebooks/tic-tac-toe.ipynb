{
 "cells": [
  {
   "cell_type": "code",
   "execution_count": 1,
   "metadata": {},
   "outputs": [],
   "source": [
    "from random import randint\n",
    "board = [0, 1, 2, 3, 4, 5, 6, 7, 8]"
   ]
  },
  {
   "cell_type": "code",
   "execution_count": 2,
   "metadata": {},
   "outputs": [],
   "source": [
    "def check_line(ch, x1, x2, x3):\n",
    "    if board[x1] == ch and board[x2] == ch and board[x3] == ch:\n",
    "        return True\n",
    "    return False\n",
    "def check_all(ch):\n",
    "    if check_line(ch, 0, 1, 2): return True\n",
    "    if check_line(ch, 3, 4, 5): return True\n",
    "    if check_line(ch, 6, 7, 8): return True\n",
    "    if check_line(ch, 0, 4, 8): return True\n",
    "    if check_line(ch, 6, 4, 2): return True\n",
    "    if check_line(ch, 0, 3, 6): return True\n",
    "    if check_line(ch, 1, 4, 7): return True\n",
    "    if check_line(ch, 2, 5, 8): return True\n",
    "\n",
    "    return False\n",
    "\n",
    "def con_o_trong():\n",
    "    for x in range(0, 9):\n",
    "        if board[x] != 'x' and board[x] != 'o':\n",
    "            return True\n",
    "\n",
    "def print_l(x1, x2, x3):\n",
    "    print (board[x1], '|', board[x2], '|', board[x3], '|')\n",
    "    print ('-----------')"
   ]
  },
  {
   "cell_type": "code",
   "execution_count": 3,
   "metadata": {},
   "outputs": [
    {
     "name": "stdout",
     "output_type": "stream",
     "text": [
      "0 | 1 | 2 |\n",
      "-----------\n",
      "3 | 4 | 5 |\n",
      "-----------\n",
      "6 | 7 | 8 |\n",
      "-----------\n"
     ]
    }
   ],
   "source": [
    "def show():\n",
    "    print_l(0, 1, 2)\n",
    "    print_l(3, 4, 5)\n",
    "    print_l(6, 7, 8)\n",
    "\n",
    "show()"
   ]
  },
  {
   "cell_type": "code",
   "execution_count": null,
   "metadata": {},
   "outputs": [],
   "source": [
    "win = 0\n",
    "\n",
    "while con_o_trong():\n",
    "    cell = input(\"Vui lòng nhập một ô Số (0-8):\")\n",
    "    cell = int(cell)\n",
    "    if board[cell] == 'x' or board[cell] == 'o':\n",
    "        print ('Ô này đã bị chiếm')\n",
    "    else:\n",
    "        board[cell] = 'x'\n",
    "        while con_o_trong():\n",
    "            computer = randint(0, 8)\n",
    "            if board[computer] == 'x' or board[computer] == 'o':\n",
    "                pass\n",
    "            else:\n",
    "                board[computer] = 'o'\n",
    "                break\n",
    "    show()\n",
    "    if check_all('x'):\n",
    "        win = 'Bạn đã'\n",
    "        break\n",
    "\n",
    "    if check_all('o'):\n",
    "        win = 'Computer'\n",
    "        break\n",
    "\n",
    "if win == 0:\n",
    "    print ('Hai bạn bất phân thắng bại!')\n",
    "else:\n",
    "    print (win, ' chiến thắng')"
   ]
  }
 ],
 "metadata": {
  "kernelspec": {
   "display_name": "Python 3",
   "language": "python",
   "name": "python3"
  },
  "language_info": {
   "codemirror_mode": {
    "name": "ipython",
    "version": 3
   },
   "file_extension": ".py",
   "mimetype": "text/x-python",
   "name": "python",
   "nbconvert_exporter": "python",
   "pygments_lexer": "ipython3",
   "version": "3.8.5"
  }
 },
 "nbformat": 4,
 "nbformat_minor": 4
}
